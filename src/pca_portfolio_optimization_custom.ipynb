{
 "cells": [
  {
   "cell_type": "code",
   "execution_count": 1,
   "metadata": {},
   "outputs": [],
   "source": [
    "import pandas as pd\n",
    "import numpy as np"
   ]
  },
  {
   "cell_type": "code",
   "execution_count": 2,
   "metadata": {},
   "outputs": [
    {
     "data": {
      "text/html": [
       "<div>\n",
       "<style scoped>\n",
       "    .dataframe tbody tr th:only-of-type {\n",
       "        vertical-align: middle;\n",
       "    }\n",
       "\n",
       "    .dataframe tbody tr th {\n",
       "        vertical-align: top;\n",
       "    }\n",
       "\n",
       "    .dataframe thead th {\n",
       "        text-align: right;\n",
       "    }\n",
       "</style>\n",
       "<table border=\"1\" class=\"dataframe\">\n",
       "  <thead>\n",
       "    <tr style=\"text-align: right;\">\n",
       "      <th></th>\n",
       "      <th>Unnamed: 0</th>\n",
       "      <th>Date</th>\n",
       "      <th>Price</th>\n",
       "      <th>Open</th>\n",
       "      <th>High</th>\n",
       "      <th>Low</th>\n",
       "      <th>Vol.</th>\n",
       "      <th>Change %</th>\n",
       "      <th>Year</th>\n",
       "      <th>EPS</th>\n",
       "      <th>Ticker</th>\n",
       "      <th>Price_Return</th>\n",
       "      <th>Log_Return</th>\n",
       "      <th>Volatility</th>\n",
       "      <th>Moving_Average</th>\n",
       "      <th>RSI</th>\n",
       "      <th>MACD</th>\n",
       "      <th>Sharpe_Ratio</th>\n",
       "      <th>Max_Drawdown</th>\n",
       "    </tr>\n",
       "  </thead>\n",
       "  <tbody>\n",
       "    <tr>\n",
       "      <th>0</th>\n",
       "      <td>0</td>\n",
       "      <td>2024-11-01</td>\n",
       "      <td>141.86</td>\n",
       "      <td>144.44</td>\n",
       "      <td>144.54</td>\n",
       "      <td>141.32</td>\n",
       "      <td>39030000.0</td>\n",
       "      <td>-0.0153</td>\n",
       "      <td>2024</td>\n",
       "      <td>0.7</td>\n",
       "      <td>AMD</td>\n",
       "      <td>0.008173</td>\n",
       "      <td>0.008140</td>\n",
       "      <td>0.020197</td>\n",
       "      <td>143.83</td>\n",
       "      <td>411.212815</td>\n",
       "      <td>0.728616</td>\n",
       "      <td>-0.010539</td>\n",
       "      <td>-0.000235</td>\n",
       "    </tr>\n",
       "    <tr>\n",
       "      <th>1</th>\n",
       "      <td>1</td>\n",
       "      <td>2024-10-31</td>\n",
       "      <td>144.07</td>\n",
       "      <td>147.80</td>\n",
       "      <td>148.68</td>\n",
       "      <td>143.33</td>\n",
       "      <td>44390000.0</td>\n",
       "      <td>-0.0305</td>\n",
       "      <td>2024</td>\n",
       "      <td>0.7</td>\n",
       "      <td>AMD</td>\n",
       "      <td>0.015579</td>\n",
       "      <td>0.015459</td>\n",
       "      <td>0.018745</td>\n",
       "      <td>142.68</td>\n",
       "      <td>310.200927</td>\n",
       "      <td>0.792438</td>\n",
       "      <td>-0.010539</td>\n",
       "      <td>-0.000235</td>\n",
       "    </tr>\n",
       "  </tbody>\n",
       "</table>\n",
       "</div>"
      ],
      "text/plain": [
       "   Unnamed: 0        Date   Price    Open    High     Low        Vol.  \\\n",
       "0           0  2024-11-01  141.86  144.44  144.54  141.32  39030000.0   \n",
       "1           1  2024-10-31  144.07  147.80  148.68  143.33  44390000.0   \n",
       "\n",
       "   Change %  Year  EPS Ticker  Price_Return  Log_Return  Volatility  \\\n",
       "0   -0.0153  2024  0.7    AMD      0.008173    0.008140    0.020197   \n",
       "1   -0.0305  2024  0.7    AMD      0.015579    0.015459    0.018745   \n",
       "\n",
       "   Moving_Average         RSI      MACD  Sharpe_Ratio  Max_Drawdown  \n",
       "0          143.83  411.212815  0.728616     -0.010539     -0.000235  \n",
       "1          142.68  310.200927  0.792438     -0.010539     -0.000235  "
      ]
     },
     "execution_count": 2,
     "metadata": {},
     "output_type": "execute_result"
    }
   ],
   "source": [
    "combined_df = pd.read_csv(\"../data/stocks-COMBINED-Jan2020-Dec2024.csv\")\n",
    "combined_df.head(2)"
   ]
  },
  {
   "cell_type": "code",
   "execution_count": 4,
   "metadata": {},
   "outputs": [
    {
     "data": {
      "text/plain": [
       "(4872, 19)"
      ]
     },
     "execution_count": 4,
     "metadata": {},
     "output_type": "execute_result"
    }
   ],
   "source": [
    "combined_df.shape"
   ]
  },
  {
   "cell_type": "markdown",
   "metadata": {},
   "source": [
    "### 1 Standardize data to have mean of 0 and standard deviation of 1\n"
   ]
  },
  {
   "cell_type": "code",
   "execution_count": 9,
   "metadata": {},
   "outputs": [
    {
     "data": {
      "text/plain": [
       "Unnamed: 0          int64\n",
       "Date               object\n",
       "Price             float64\n",
       "Open              float64\n",
       "High              float64\n",
       "Low               float64\n",
       "Vol.              float64\n",
       "Change %          float64\n",
       "Year                int64\n",
       "EPS               float64\n",
       "Ticker             object\n",
       "Price_Return      float64\n",
       "Log_Return        float64\n",
       "Volatility        float64\n",
       "Moving_Average    float64\n",
       "RSI               float64\n",
       "MACD              float64\n",
       "Sharpe_Ratio      float64\n",
       "Max_Drawdown      float64\n",
       "dtype: object"
      ]
     },
     "execution_count": 9,
     "metadata": {},
     "output_type": "execute_result"
    }
   ],
   "source": [
    "combined_df.dtypes"
   ]
  },
  {
   "cell_type": "code",
   "execution_count": 11,
   "metadata": {},
   "outputs": [
    {
     "ename": "NameError",
     "evalue": "name 'numerical_features_values' is not defined",
     "output_type": "error",
     "traceback": [
      "\u001b[0;31m---------------------------------------------------------------------------\u001b[0m",
      "\u001b[0;31mNameError\u001b[0m                                 Traceback (most recent call last)",
      "Cell \u001b[0;32mIn[11], line 1\u001b[0m\n\u001b[0;32m----> 1\u001b[0m numerical_features_values\n",
      "\u001b[0;31mNameError\u001b[0m: name 'numerical_features_values' is not defined"
     ]
    }
   ],
   "source": [
    "numerical_features_values"
   ]
  },
  {
   "cell_type": "code",
   "execution_count": null,
   "metadata": {},
   "outputs": [],
   "source": [
    "numerical_features = combined_df.select_dtypes(include=['float64', 'int64'])\n"
   ]
  },
  {
   "cell_type": "code",
   "execution_count": 18,
   "metadata": {},
   "outputs": [],
   "source": [
    "numerical_features.drop('Unnamed: 0', axis=1, inplace=True)"
   ]
  },
  {
   "cell_type": "code",
   "execution_count": 21,
   "metadata": {},
   "outputs": [
    {
     "name": "stderr",
     "output_type": "stream",
     "text": [
      "/opt/anaconda3/lib/python3.12/site-packages/numpy/core/_methods.py:173: RuntimeWarning: invalid value encountered in subtract\n",
      "  x = asanyarray(arr - arrmean)\n",
      "/var/folders/fc/n6ycqzwx13989g40ry2djdsh0000gn/T/ipykernel_65932/2218247532.py:4: RuntimeWarning: invalid value encountered in subtract\n",
      "  standardized_numerical_features = (numerical_features.values - mean) / std\n"
     ]
    }
   ],
   "source": [
    "mean = np.mean(numerical_features.values, axis=0)\n",
    "std = np.std(numerical_features.values, axis=0)\n",
    "\n",
    "standardized_numerical_features = (numerical_features.values - mean) / std"
   ]
  },
  {
   "cell_type": "code",
   "execution_count": 22,
   "metadata": {},
   "outputs": [],
   "source": [
    "### 2 Compute covariance matrix\n",
    "cov_matrix = np.cov(standardized_numerical_features.T)\n"
   ]
  },
  {
   "cell_type": "markdown",
   "metadata": {},
   "source": [
    "### 3 Eigen Decomposition\n"
   ]
  },
  {
   "cell_type": "code",
   "execution_count": 25,
   "metadata": {},
   "outputs": [
    {
     "name": "stdout",
     "output_type": "stream",
     "text": [
      "Contains NaN values: True\n",
      "Contains Inf values: False\n"
     ]
    }
   ],
   "source": [
    "print(\"Contains NaN values:\", np.isnan(cov_matrix).any())\n",
    "print(\"Contains Inf values:\", np.isinf(cov_matrix).any())"
   ]
  },
  {
   "cell_type": "code",
   "execution_count": 29,
   "metadata": {},
   "outputs": [],
   "source": [
    "cov_matrix = np.nan_to_num(cov_matrix, nan=np.nanmean(cov_matrix))\n"
   ]
  },
  {
   "cell_type": "code",
   "execution_count": null,
   "metadata": {},
   "outputs": [],
   "source": [
    "eigenvalues, eigenvectors = np.linalg.eig(cov_matrix)"
   ]
  },
  {
   "cell_type": "code",
   "execution_count": 34,
   "metadata": {},
   "outputs": [
    {
     "data": {
      "text/plain": [
       "(16,)"
      ]
     },
     "execution_count": 34,
     "metadata": {},
     "output_type": "execute_result"
    }
   ],
   "source": [
    "eigenvalues.shape"
   ]
  },
  {
   "cell_type": "code",
   "execution_count": 38,
   "metadata": {},
   "outputs": [
    {
     "data": {
      "text/plain": [
       "['Price',\n",
       " 'Open',\n",
       " 'High',\n",
       " 'Low',\n",
       " 'Vol.',\n",
       " 'Change %',\n",
       " 'Year',\n",
       " 'EPS',\n",
       " 'Price_Return',\n",
       " 'Log_Return',\n",
       " 'Volatility',\n",
       " 'Moving_Average',\n",
       " 'RSI',\n",
       " 'MACD',\n",
       " 'Sharpe_Ratio',\n",
       " 'Max_Drawdown']"
      ]
     },
     "execution_count": 38,
     "metadata": {},
     "output_type": "execute_result"
    }
   ],
   "source": [
    "feature_names = list(numerical_features.columns)\n",
    "feature_names"
   ]
  },
  {
   "cell_type": "code",
   "execution_count": 39,
   "metadata": {},
   "outputs": [
    {
     "data": {
      "text/plain": [
       "array([ 6.20731196e+00,  2.26949093e+00,  2.04280909e+00,  1.20609263e+00,\n",
       "        9.92405406e-01,  1.02556844e+00,  6.76852462e-01, -2.15173333e-01,\n",
       "        4.88032807e-01,  3.17628153e-01,  1.27824080e-01,  7.32463133e-05,\n",
       "        2.90717070e-04,  3.90454296e-04,  1.28702134e-03,  1.00560592e-03])"
      ]
     },
     "execution_count": 39,
     "metadata": {},
     "output_type": "execute_result"
    }
   ],
   "source": [
    "eigenvalues"
   ]
  },
  {
   "cell_type": "code",
   "execution_count": 41,
   "metadata": {},
   "outputs": [],
   "source": [
    "feature_mapping = {\n",
    "    feature: {\n",
    "        \"eigenvalue\": eigenvalues[i],\n",
    "        \"eigenvector\": eigenvectors[i]\n",
    "    }\n",
    "    for i, feature in enumerate(feature_names)\n",
    "}"
   ]
  },
  {
   "cell_type": "code",
   "execution_count": 42,
   "metadata": {},
   "outputs": [
    {
     "data": {
      "text/plain": [
       "{'Price': {'eigenvalue': 6.207311964969001,\n",
       "  'eigenvector': array([-0.39409826,  0.01471869,  0.0236316 , -0.11637453, -0.02145233,\n",
       "         -0.00442406, -0.16139493,  0.04194981, -0.01344508, -0.01264141,\n",
       "          0.02984397, -0.53360909,  0.69014699, -0.1908252 , -0.05796664,\n",
       "          0.00577897])},\n",
       " 'Open': {'eigenvalue': 2.2694909262663594,\n",
       "  'eigenvector': array([-0.39394528,  0.01388536,  0.02285068, -0.1155755 , -0.02030135,\n",
       "         -0.02863204, -0.16239553,  0.05118574, -0.02107293, -0.01912106,\n",
       "          0.02464463, -0.47901268, -0.63852422,  0.18278904, -0.35533646,\n",
       "         -0.04744511])},\n",
       " 'High': {'eigenvalue': 2.0428090884843955,\n",
       "  'eigenvector': array([-0.39335836,  0.01662453,  0.02442086, -0.12166216, -0.01926727,\n",
       "         -0.01923071, -0.16824471,  0.04433256, -0.01497578, -0.01564279,\n",
       "          0.0274289 ,  0.50668161,  0.25848013,  0.64166352, -0.24211953,\n",
       "         -0.05889459])},\n",
       " 'Low': {'eigenvalue': 1.206092631914168,\n",
       "  'eigenvector': array([-0.39470771,  0.01138734,  0.02087996, -0.11059511, -0.0220058 ,\n",
       "         -0.01508265, -0.15551793,  0.04992458, -0.01988696, -0.01707986,\n",
       "          0.0263563 ,  0.47758325, -0.13333295, -0.71219658, -0.21711369,\n",
       "          0.04910445])},\n",
       " 'Vol.': {'eigenvalue': 0.9924054061783805,\n",
       "  'eigenvector': array([ 2.02049057e-01,  4.66843946e-01,  1.24430660e-01, -1.65574878e-01,\n",
       "          7.63065969e-02,  5.85960354e-02, -1.02265070e-01,  2.68798620e-01,\n",
       "         -2.46069354e-01, -6.78353278e-01,  2.92580462e-01, -5.90630378e-04,\n",
       "          4.10274453e-03, -3.27259341e-03, -4.59721930e-03,  1.48177360e-03])},\n",
       " 'Change %': {'eigenvalue': 1.0255684377495273,\n",
       "  'eigenvector': array([ 0.00728547,  0.04892844,  0.05006284, -0.08132265, -0.06236057,\n",
       "          0.96977809, -0.02257504,  0.08013479,  0.12160708,  0.14507341,\n",
       "          0.02874465,  0.00101207, -0.01357141,  0.00512515, -0.01643995,\n",
       "         -0.00104227])},\n",
       " 'Year': {'eigenvalue': 0.6768524618928509,\n",
       "  'eigenvector': array([-9.83078010e-02, -4.72810882e-02,  8.89411148e-03,  4.86685669e-02,\n",
       "          9.58768493e-01,  4.57696141e-02,  1.15579092e-01,  8.88681453e-02,\n",
       "         -5.69911667e-02,  1.39662212e-01,  1.42513375e-01, -1.19217344e-04,\n",
       "         -2.34650259e-04,  2.60638351e-04, -2.81892949e-05, -8.12011136e-04])},\n",
       " 'EPS': {'eigenvalue': -0.21517333332296176,\n",
       "  'eigenvector': array([-2.42088165e-01,  3.92456102e-01,  3.96496251e-02,  2.30966308e-01,\n",
       "         -4.74732523e-02,  2.06332937e-02,  5.03316017e-01,  3.26672851e-01,\n",
       "         -2.38710702e-01,  4.52349671e-02, -5.57142881e-01, -3.57898494e-04,\n",
       "          8.16647917e-03,  4.54442413e-03, -7.93051520e-03, -1.20348816e-02])},\n",
       " 'Price_Return': {'eigenvalue': 0.4880328072198839,\n",
       "  'eigenvector': array([-7.09957435e-03, -1.31024187e-01,  6.76736913e-01,  1.36941430e-01,\n",
       "         -2.26021350e-02, -2.67738479e-02, -3.64763621e-03,  3.10043120e-02,\n",
       "          4.82652814e-02, -2.22920827e-03,  2.45169487e-02,  1.12966917e-02,\n",
       "         -6.06038304e-04, -5.52664298e-02,  6.15406083e-02, -7.02815048e-01])},\n",
       " 'Log_Return': {'eigenvalue': 0.3176281528487124,\n",
       "  'eigenvector': array([-0.01163349, -0.135514  ,  0.67459532,  0.14389593, -0.0192395 ,\n",
       "         -0.02613183,  0.00537903,  0.04170917,  0.06054272, -0.0147884 ,\n",
       "          0.00581423, -0.00972373, -0.00456625,  0.05690023, -0.03475812,\n",
       "          0.70314652])},\n",
       " 'Volatility': {'eigenvalue': 0.12782407984864233,\n",
       "  'eigenvector': array([ 2.55125904e-01,  1.87212551e-01,  1.52485928e-01, -4.13322344e-01,\n",
       "         -5.75404003e-02, -1.16634559e-01, -2.13196502e-01,  2.15874007e-01,\n",
       "         -4.59356566e-01,  6.19536121e-01,  4.18398823e-02, -1.93597110e-04,\n",
       "          5.98189846e-04, -4.13701681e-03,  1.89871619e-03,  1.41742838e-02])},\n",
       " 'Moving_Average': {'eigenvalue': 7.32463132737269e-05,\n",
       "  'eigenvector': array([-3.94074871e-01,  2.01489504e-02,  1.59345948e-03, -1.14453065e-01,\n",
       "         -2.00923076e-02, -6.64376265e-04, -1.65381798e-01,  6.03773380e-02,\n",
       "         -2.12031129e-02, -2.06802012e-02,  1.75703695e-02,  2.77648879e-02,\n",
       "         -1.76074681e-01,  6.89806405e-02,  8.71278397e-01,  5.43392238e-02])},\n",
       " 'RSI': {'eigenvalue': 0.00029071707015647553,\n",
       "  'eigenvector': array([-4.22675419e-02, -2.06530621e-02,  1.26487093e-01, -1.82973181e-01,\n",
       "          1.00308253e-01,  1.45349687e-01,  2.30671707e-02, -7.46030607e-01,\n",
       "         -4.98645702e-01, -1.75688098e-01, -2.83637621e-01,  4.02721291e-04,\n",
       "         -4.27339518e-03, -3.75594382e-04,  3.82394917e-03,  5.41908888e-03])},\n",
       " 'MACD': {'eigenvalue': 0.00039045429630666593,\n",
       "  'eigenvector': array([-2.04514809e-02, -1.48355845e-01,  9.45970378e-02, -7.40984843e-01,\n",
       "         -1.36119431e-02, -7.20741930e-02,  5.71607845e-01,  3.38029185e-02,\n",
       "          2.80175265e-01, -8.72735134e-02,  1.14349332e-02,  9.90915167e-05,\n",
       "         -2.15610324e-03, -8.26422729e-04,  6.79730936e-03, -3.13935534e-03])},\n",
       " 'Sharpe_Ratio': {'eigenvalue': 0.0012870213364014498,\n",
       "  'eigenvector': array([ 0.17095102, -0.54314902, -0.06970919, -0.1523334 ,  0.10871976,\n",
       "          0.05539092, -0.30468215,  0.3979441 , -0.12237564, -0.2675427 ,\n",
       "         -0.54295463, -0.00118256,  0.00812125, -0.00259332, -0.00868263,\n",
       "         -0.01082148])},\n",
       " 'Max_Drawdown': {'eigenvalue': 0.0010056059214701202,\n",
       "  'eigenvector': array([-1.33497825e-01, -4.83897910e-01, -1.10151823e-01,  1.64884166e-01,\n",
       "         -2.01015595e-01,  8.80144644e-02,  3.52829963e-01,  1.69893121e-01,\n",
       "         -5.51009707e-01, -4.04790078e-02,  4.49257362e-01, -5.07118654e-05,\n",
       "          3.71495315e-03,  9.22845755e-03, -3.30595733e-04,  3.59969616e-03])}}"
      ]
     },
     "execution_count": 42,
     "metadata": {},
     "output_type": "execute_result"
    }
   ],
   "source": [
    "feature_mapping"
   ]
  },
  {
   "cell_type": "markdown",
   "metadata": {},
   "source": [
    "### 4 Sort feature map for descending eigenvalues\n"
   ]
  },
  {
   "cell_type": "code",
   "execution_count": 43,
   "metadata": {},
   "outputs": [],
   "source": [
    "sorted_feature_map = dict(\n",
    "    sorted(feature_mapping.items(), key=lambda item: item[1]['eigenvalue'], reverse=True)\n",
    ")"
   ]
  },
  {
   "cell_type": "code",
   "execution_count": 44,
   "metadata": {},
   "outputs": [
    {
     "data": {
      "text/plain": [
       "{'Price': {'eigenvalue': 6.207311964969001,\n",
       "  'eigenvector': array([-0.39409826,  0.01471869,  0.0236316 , -0.11637453, -0.02145233,\n",
       "         -0.00442406, -0.16139493,  0.04194981, -0.01344508, -0.01264141,\n",
       "          0.02984397, -0.53360909,  0.69014699, -0.1908252 , -0.05796664,\n",
       "          0.00577897])},\n",
       " 'Open': {'eigenvalue': 2.2694909262663594,\n",
       "  'eigenvector': array([-0.39394528,  0.01388536,  0.02285068, -0.1155755 , -0.02030135,\n",
       "         -0.02863204, -0.16239553,  0.05118574, -0.02107293, -0.01912106,\n",
       "          0.02464463, -0.47901268, -0.63852422,  0.18278904, -0.35533646,\n",
       "         -0.04744511])},\n",
       " 'High': {'eigenvalue': 2.0428090884843955,\n",
       "  'eigenvector': array([-0.39335836,  0.01662453,  0.02442086, -0.12166216, -0.01926727,\n",
       "         -0.01923071, -0.16824471,  0.04433256, -0.01497578, -0.01564279,\n",
       "          0.0274289 ,  0.50668161,  0.25848013,  0.64166352, -0.24211953,\n",
       "         -0.05889459])},\n",
       " 'Low': {'eigenvalue': 1.206092631914168,\n",
       "  'eigenvector': array([-0.39470771,  0.01138734,  0.02087996, -0.11059511, -0.0220058 ,\n",
       "         -0.01508265, -0.15551793,  0.04992458, -0.01988696, -0.01707986,\n",
       "          0.0263563 ,  0.47758325, -0.13333295, -0.71219658, -0.21711369,\n",
       "          0.04910445])},\n",
       " 'Change %': {'eigenvalue': 1.0255684377495273,\n",
       "  'eigenvector': array([ 0.00728547,  0.04892844,  0.05006284, -0.08132265, -0.06236057,\n",
       "          0.96977809, -0.02257504,  0.08013479,  0.12160708,  0.14507341,\n",
       "          0.02874465,  0.00101207, -0.01357141,  0.00512515, -0.01643995,\n",
       "         -0.00104227])},\n",
       " 'Vol.': {'eigenvalue': 0.9924054061783805,\n",
       "  'eigenvector': array([ 2.02049057e-01,  4.66843946e-01,  1.24430660e-01, -1.65574878e-01,\n",
       "          7.63065969e-02,  5.85960354e-02, -1.02265070e-01,  2.68798620e-01,\n",
       "         -2.46069354e-01, -6.78353278e-01,  2.92580462e-01, -5.90630378e-04,\n",
       "          4.10274453e-03, -3.27259341e-03, -4.59721930e-03,  1.48177360e-03])},\n",
       " 'Year': {'eigenvalue': 0.6768524618928509,\n",
       "  'eigenvector': array([-9.83078010e-02, -4.72810882e-02,  8.89411148e-03,  4.86685669e-02,\n",
       "          9.58768493e-01,  4.57696141e-02,  1.15579092e-01,  8.88681453e-02,\n",
       "         -5.69911667e-02,  1.39662212e-01,  1.42513375e-01, -1.19217344e-04,\n",
       "         -2.34650259e-04,  2.60638351e-04, -2.81892949e-05, -8.12011136e-04])},\n",
       " 'Price_Return': {'eigenvalue': 0.4880328072198839,\n",
       "  'eigenvector': array([-7.09957435e-03, -1.31024187e-01,  6.76736913e-01,  1.36941430e-01,\n",
       "         -2.26021350e-02, -2.67738479e-02, -3.64763621e-03,  3.10043120e-02,\n",
       "          4.82652814e-02, -2.22920827e-03,  2.45169487e-02,  1.12966917e-02,\n",
       "         -6.06038304e-04, -5.52664298e-02,  6.15406083e-02, -7.02815048e-01])},\n",
       " 'Log_Return': {'eigenvalue': 0.3176281528487124,\n",
       "  'eigenvector': array([-0.01163349, -0.135514  ,  0.67459532,  0.14389593, -0.0192395 ,\n",
       "         -0.02613183,  0.00537903,  0.04170917,  0.06054272, -0.0147884 ,\n",
       "          0.00581423, -0.00972373, -0.00456625,  0.05690023, -0.03475812,\n",
       "          0.70314652])},\n",
       " 'Volatility': {'eigenvalue': 0.12782407984864233,\n",
       "  'eigenvector': array([ 2.55125904e-01,  1.87212551e-01,  1.52485928e-01, -4.13322344e-01,\n",
       "         -5.75404003e-02, -1.16634559e-01, -2.13196502e-01,  2.15874007e-01,\n",
       "         -4.59356566e-01,  6.19536121e-01,  4.18398823e-02, -1.93597110e-04,\n",
       "          5.98189846e-04, -4.13701681e-03,  1.89871619e-03,  1.41742838e-02])},\n",
       " 'Sharpe_Ratio': {'eigenvalue': 0.0012870213364014498,\n",
       "  'eigenvector': array([ 0.17095102, -0.54314902, -0.06970919, -0.1523334 ,  0.10871976,\n",
       "          0.05539092, -0.30468215,  0.3979441 , -0.12237564, -0.2675427 ,\n",
       "         -0.54295463, -0.00118256,  0.00812125, -0.00259332, -0.00868263,\n",
       "         -0.01082148])},\n",
       " 'Max_Drawdown': {'eigenvalue': 0.0010056059214701202,\n",
       "  'eigenvector': array([-1.33497825e-01, -4.83897910e-01, -1.10151823e-01,  1.64884166e-01,\n",
       "         -2.01015595e-01,  8.80144644e-02,  3.52829963e-01,  1.69893121e-01,\n",
       "         -5.51009707e-01, -4.04790078e-02,  4.49257362e-01, -5.07118654e-05,\n",
       "          3.71495315e-03,  9.22845755e-03, -3.30595733e-04,  3.59969616e-03])},\n",
       " 'MACD': {'eigenvalue': 0.00039045429630666593,\n",
       "  'eigenvector': array([-2.04514809e-02, -1.48355845e-01,  9.45970378e-02, -7.40984843e-01,\n",
       "         -1.36119431e-02, -7.20741930e-02,  5.71607845e-01,  3.38029185e-02,\n",
       "          2.80175265e-01, -8.72735134e-02,  1.14349332e-02,  9.90915167e-05,\n",
       "         -2.15610324e-03, -8.26422729e-04,  6.79730936e-03, -3.13935534e-03])},\n",
       " 'RSI': {'eigenvalue': 0.00029071707015647553,\n",
       "  'eigenvector': array([-4.22675419e-02, -2.06530621e-02,  1.26487093e-01, -1.82973181e-01,\n",
       "          1.00308253e-01,  1.45349687e-01,  2.30671707e-02, -7.46030607e-01,\n",
       "         -4.98645702e-01, -1.75688098e-01, -2.83637621e-01,  4.02721291e-04,\n",
       "         -4.27339518e-03, -3.75594382e-04,  3.82394917e-03,  5.41908888e-03])},\n",
       " 'Moving_Average': {'eigenvalue': 7.32463132737269e-05,\n",
       "  'eigenvector': array([-3.94074871e-01,  2.01489504e-02,  1.59345948e-03, -1.14453065e-01,\n",
       "         -2.00923076e-02, -6.64376265e-04, -1.65381798e-01,  6.03773380e-02,\n",
       "         -2.12031129e-02, -2.06802012e-02,  1.75703695e-02,  2.77648879e-02,\n",
       "         -1.76074681e-01,  6.89806405e-02,  8.71278397e-01,  5.43392238e-02])},\n",
       " 'EPS': {'eigenvalue': -0.21517333332296176,\n",
       "  'eigenvector': array([-2.42088165e-01,  3.92456102e-01,  3.96496251e-02,  2.30966308e-01,\n",
       "         -4.74732523e-02,  2.06332937e-02,  5.03316017e-01,  3.26672851e-01,\n",
       "         -2.38710702e-01,  4.52349671e-02, -5.57142881e-01, -3.57898494e-04,\n",
       "          8.16647917e-03,  4.54442413e-03, -7.93051520e-03, -1.20348816e-02])}}"
      ]
     },
     "execution_count": 44,
     "metadata": {},
     "output_type": "execute_result"
    }
   ],
   "source": [
    "sorted_feature_map"
   ]
  },
  {
   "cell_type": "code",
   "execution_count": 54,
   "metadata": {},
   "outputs": [
    {
     "name": "stdout",
     "output_type": "stream",
     "text": [
      "Feature: Price\n",
      "    Eigenvalue: 6.207\n",
      "    Eigenvector: [-0.39409826  0.01471869  0.0236316  -0.11637453 -0.02145233 -0.00442406\n",
      " -0.16139493  0.04194981 -0.01344508 -0.01264141  0.02984397 -0.53360909\n",
      "  0.69014699 -0.1908252  -0.05796664  0.00577897]\n",
      "Feature: Open\n",
      "    Eigenvalue: 2.269\n",
      "    Eigenvector: [-0.39394528  0.01388536  0.02285068 -0.1155755  -0.02030135 -0.02863204\n",
      " -0.16239553  0.05118574 -0.02107293 -0.01912106  0.02464463 -0.47901268\n",
      " -0.63852422  0.18278904 -0.35533646 -0.04744511]\n",
      "Feature: High\n",
      "    Eigenvalue: 2.043\n",
      "    Eigenvector: [-0.39335836  0.01662453  0.02442086 -0.12166216 -0.01926727 -0.01923071\n",
      " -0.16824471  0.04433256 -0.01497578 -0.01564279  0.0274289   0.50668161\n",
      "  0.25848013  0.64166352 -0.24211953 -0.05889459]\n",
      "Feature: Low\n",
      "    Eigenvalue: 1.206\n",
      "    Eigenvector: [-0.39470771  0.01138734  0.02087996 -0.11059511 -0.0220058  -0.01508265\n",
      " -0.15551793  0.04992458 -0.01988696 -0.01707986  0.0263563   0.47758325\n",
      " -0.13333295 -0.71219658 -0.21711369  0.04910445]\n",
      "Feature: Change %\n",
      "    Eigenvalue: 1.026\n",
      "    Eigenvector: [ 0.00728547  0.04892844  0.05006284 -0.08132265 -0.06236057  0.96977809\n",
      " -0.02257504  0.08013479  0.12160708  0.14507341  0.02874465  0.00101207\n",
      " -0.01357141  0.00512515 -0.01643995 -0.00104227]\n"
     ]
    }
   ],
   "source": [
    "# Top 5 componentss\n",
    "k = 5\n",
    "\n",
    "top_k_features = dict(\n",
    "    list(sorted_feature_map.items())[:k]\n",
    ")\n",
    "\n",
    "for feature, eigen in top_k_features.items():\n",
    "    print(f\"Feature: {feature}\")\n",
    "    print(f\"    Eigenvalue: {eigen['eigenvalue']:.3f}\")\n",
    "    print(f\"    Eigenvector: {eigen['eigenvector']}\")"
   ]
  },
  {
   "cell_type": "code",
   "execution_count": null,
   "metadata": {},
   "outputs": [],
   "source": []
  }
 ],
 "metadata": {
  "kernelspec": {
   "display_name": "base",
   "language": "python",
   "name": "python3"
  },
  "language_info": {
   "codemirror_mode": {
    "name": "ipython",
    "version": 3
   },
   "file_extension": ".py",
   "mimetype": "text/x-python",
   "name": "python",
   "nbconvert_exporter": "python",
   "pygments_lexer": "ipython3",
   "version": "3.12.7"
  }
 },
 "nbformat": 4,
 "nbformat_minor": 2
}
