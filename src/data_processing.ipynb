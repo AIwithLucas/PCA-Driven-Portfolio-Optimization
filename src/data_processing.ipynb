{
 "cells": [
  {
   "cell_type": "code",
   "execution_count": 1,
   "metadata": {},
   "outputs": [],
   "source": [
    "import pandas as pd\n",
    "import numpy as np\n"
   ]
  },
  {
   "cell_type": "code",
   "execution_count": 2,
   "metadata": {},
   "outputs": [],
   "source": [
    "# 1. Price Returns\n",
    "def calc_price_return(df):\n",
    "    return df['Price'].pct_change()\n",
    "\n",
    "# 2. Log Returns\n",
    "def calc_log_return(df):\n",
    "    return np.log(df['Price'] / df['Price'].shift(1))\n",
    "\n",
    "# 3. Volatility (default 20 days, adjust accordingly)\n",
    "def calc_volatility(df, window=20):\n",
    "    returns = df['Price'].pct_change()\n",
    "    return returns.rolling(window=window).std()\n",
    "\n",
    "# 4. Moving Average (default 5 days, adjust accordingly)\n",
    "def calc_MA(df, window=5):\n",
    "    return df['Price'].rolling(window=window).mean()\n",
    "\n",
    "# 5 RSI (default 14-day, adjust accordingly)\n",
    "def calc_rsi(df, window=14):\n",
    "    delta = df['Price'].diff()\n",
    "    gain = (delta.where(delta > 0, 0)).rolling(window=window).mean() # Avg gain\n",
    "    loss = (delta.where(delta < 0, 0)).rolling(window=window).mean() # Avg loss\n",
    "    RS = gain / loss # RS = Avg gain / Avg loss\n",
    "    return 100 - (100 / (1 + RS))\n",
    "\n",
    "# 6 Moving Average Convergence Divergence (MACD)\n",
    "def calc_macd(df):\n",
    "    ema_12 = df['Price'].ewm(span=12, adjust=False).mean()\n",
    "    ema_26 = df['Price'].ewm(span=26, adjust=False).mean()\n",
    "    return ema_12 - ema_26\n",
    "\n",
    "# 7 Beta: Measure volatility of stock relative to market\n",
    "# mkt_returns is typically returns of a mkt index such as SP500\n",
    "def calc_beta(df, mkt_returns):\n",
    "    covariance = np.cov(df['Price'].pct_change().dropna(), mkt_returns)[0][0]\n",
    "    mkt_variance = np.nanvar(mkt_returns)\n",
    "    return covariance / mkt_variance   \n",
    "    \n",
    "# 8 Sharpe ratio: Performance / Risk (1Y US T-bills usually considered)\n",
    "def calc_sharpe_ratio(df, risk_free_rate=0.01):\n",
    "    returns = df['Price'].pct_change()\n",
    "    excess_returns = returns - risk_free_rate / 252\n",
    "    sharpe_ratio = excess_returns.mean() / excess_returns.std()\n",
    "    return sharpe_ratio\n",
    "\n",
    "# 9 Maximum Drawdown: Largest drop from peak to trough\n",
    "def calc_max_draw_down(df):\n",
    "    cumulative_returns = (1 + df['Price'].pct_change().cumprod()) # daily time-period\n",
    "    peak = cumulative_returns.cummax() # [1., 1.1, 1.05, 1.2] -> [1., 1.1, 1.1, 1.2]\n",
    "    drawdown = (cumulative_returns - peak) / peak # Measures percentage drop from peak at any point\n",
    "    return drawdown.min() # return most negative value (worst drop)\n",
    "\n",
    "# 10 Price-Earning ratio\n",
    "def calc_pe_ratio(df):\n",
    "    return df['Price'] / df['EPS']"
   ]
  },
  {
   "cell_type": "code",
   "execution_count": 3,
   "metadata": {},
   "outputs": [],
   "source": [
    "amd_df = pd.read_csv(\"../data/stocks-AMD-Jan2020-Dec2024.csv\")\n",
    "boe_df = pd.read_csv(\"../data/stocks-BOE-Jan2020-Dec2024.csv\")\n",
    "snp_df = pd.read_csv(\"../data/stocks-SNPETF-Jan2020-Dec2024.csv\")\n",
    "tsla_df = pd.read_csv(\"../data/stocks-TSLA-Jan2020-Dec2024.csv\")\n",
    "\n"
   ]
  },
  {
   "cell_type": "code",
   "execution_count": 4,
   "metadata": {},
   "outputs": [
    {
     "name": "stdout",
     "output_type": "stream",
     "text": [
      "(1238, 7)\n",
      "(1238, 7)\n",
      "(1268, 7)\n",
      "(1238, 7)\n"
     ]
    }
   ],
   "source": [
    "print(amd_df.shape)\n",
    "print(boe_df.shape)\n",
    "print(snp_df.shape)\n",
    "print(tsla_df.shape)"
   ]
  },
  {
   "cell_type": "code",
   "execution_count": 5,
   "metadata": {},
   "outputs": [],
   "source": [
    "snp_df.dropna(inplace=True)"
   ]
  },
  {
   "cell_type": "code",
   "execution_count": 6,
   "metadata": {},
   "outputs": [
    {
     "name": "stdout",
     "output_type": "stream",
     "text": [
      "Date        0\n",
      "Price       0\n",
      "Open        0\n",
      "High        0\n",
      "Low         0\n",
      "Vol.        0\n",
      "Change %    0\n",
      "dtype: int64\n",
      "Date        0\n",
      "Price       0\n",
      "Open        0\n",
      "High        0\n",
      "Low         0\n",
      "Vol.        0\n",
      "Change %    0\n",
      "dtype: int64\n",
      "Date        0\n",
      "Price       0\n",
      "Open        0\n",
      "High        0\n",
      "Low         0\n",
      "Vol.        0\n",
      "Change %    0\n",
      "dtype: int64\n",
      "Date        0\n",
      "Price       0\n",
      "Open        0\n",
      "High        0\n",
      "Low         0\n",
      "Vol.        0\n",
      "Change %    0\n",
      "dtype: int64\n"
     ]
    }
   ],
   "source": [
    "print(amd_df.isna().sum())\n",
    "print(boe_df.isna().sum())\n",
    "print(snp_df.isna().sum())\n",
    "print(tsla_df.isna().sum())"
   ]
  },
  {
   "cell_type": "markdown",
   "metadata": {},
   "source": [
    "### Dtype Cleaning for Stocks\n"
   ]
  },
  {
   "cell_type": "code",
   "execution_count": 7,
   "metadata": {},
   "outputs": [
    {
     "data": {
      "text/html": [
       "<div>\n",
       "<style scoped>\n",
       "    .dataframe tbody tr th:only-of-type {\n",
       "        vertical-align: middle;\n",
       "    }\n",
       "\n",
       "    .dataframe tbody tr th {\n",
       "        vertical-align: top;\n",
       "    }\n",
       "\n",
       "    .dataframe thead th {\n",
       "        text-align: right;\n",
       "    }\n",
       "</style>\n",
       "<table border=\"1\" class=\"dataframe\">\n",
       "  <thead>\n",
       "    <tr style=\"text-align: right;\">\n",
       "      <th></th>\n",
       "      <th>Date</th>\n",
       "      <th>Price</th>\n",
       "      <th>Open</th>\n",
       "      <th>High</th>\n",
       "      <th>Low</th>\n",
       "      <th>Vol.</th>\n",
       "      <th>Change %</th>\n",
       "    </tr>\n",
       "  </thead>\n",
       "  <tbody>\n",
       "    <tr>\n",
       "      <th>0</th>\n",
       "      <td>12/02/2024</td>\n",
       "      <td>142.06</td>\n",
       "      <td>137.91</td>\n",
       "      <td>142.82</td>\n",
       "      <td>137.8</td>\n",
       "      <td>33.10M</td>\n",
       "      <td>3.56%</td>\n",
       "    </tr>\n",
       "  </tbody>\n",
       "</table>\n",
       "</div>"
      ],
      "text/plain": [
       "         Date   Price    Open    High    Low    Vol. Change %\n",
       "0  12/02/2024  142.06  137.91  142.82  137.8  33.10M    3.56%"
      ]
     },
     "execution_count": 7,
     "metadata": {},
     "output_type": "execute_result"
    }
   ],
   "source": [
    "amd_df.head(1)"
   ]
  },
  {
   "cell_type": "code",
   "execution_count": 8,
   "metadata": {},
   "outputs": [],
   "source": [
    "amd_df['Date'] = pd.to_datetime(amd_df['Date'])\n",
    "boe_df['Date'] = pd.to_datetime(boe_df['Date'])\n",
    "snp_df['Date'] = pd.to_datetime(snp_df['Date'])\n",
    "tsla_df['Date'] = pd.to_datetime(tsla_df['Date'])\n",
    "\n",
    "amd_df['Year'] = amd_df['Date'].dt.year\n",
    "boe_df['Year'] = boe_df['Date'].dt.year\n",
    "snp_df['Year'] = snp_df['Date'].dt.year\n",
    "tsla_df['Year'] = tsla_df['Date'].dt.year\n"
   ]
  },
  {
   "cell_type": "code",
   "execution_count": 9,
   "metadata": {},
   "outputs": [],
   "source": [
    "AMD_eps_data = {\n",
    "    'Year': [2020, 2021, 2022, 2023, 2024],\n",
    "    'EPS': [2.06, 2.57, 0.84, 0.53, 0.7]\n",
    "}\n",
    "\n",
    "TSLA_eps_data = {\n",
    "    'Year': [2020, 2021, 2022, 2023, 2024],\n",
    "    'EPS': [0.21, 1.63, 3.62, 4.3, 3.64]\n",
    "}\n",
    "\n",
    "GSPC_eps_data = {\n",
    "    'Year': [2020, 2021, 2022, 2023, 2024],\n",
    "    'EPS': [9.66, 12.51, 10.20, 8.23,11.33]\n",
    "}\n",
    "\n",
    "BOE_eps_data = {\n",
    "    'Year': [2020, 2021, 2022, 2023, 2024],\n",
    "    'EPS': [-20.88, -7.15, -8.3, -3.67, -13]\n",
    "}\n",
    "\n",
    "AMD_eps_df = pd.DataFrame(AMD_eps_data)\n",
    "TSLA_eps_df = pd.DataFrame(TSLA_eps_data)\n",
    "GSPC_eps_df = pd.DataFrame(GSPC_eps_data)\n",
    "BOE_eps_df = pd.DataFrame(BOE_eps_data)\n",
    "\n",
    "amd_df = amd_df.merge(AMD_eps_df, on='Year', how='left')\n",
    "tsla_df = tsla_df.merge(TSLA_eps_df, on='Year', how='left')\n",
    "snp_df = snp_df.merge(GSPC_eps_df, on='Year', how='left')\n",
    "boe_df = boe_df.merge(BOE_eps_df, on='Year', how='left')\n",
    "\n"
   ]
  },
  {
   "cell_type": "code",
   "execution_count": 10,
   "metadata": {},
   "outputs": [
    {
     "data": {
      "text/html": [
       "<div>\n",
       "<style scoped>\n",
       "    .dataframe tbody tr th:only-of-type {\n",
       "        vertical-align: middle;\n",
       "    }\n",
       "\n",
       "    .dataframe tbody tr th {\n",
       "        vertical-align: top;\n",
       "    }\n",
       "\n",
       "    .dataframe thead th {\n",
       "        text-align: right;\n",
       "    }\n",
       "</style>\n",
       "<table border=\"1\" class=\"dataframe\">\n",
       "  <thead>\n",
       "    <tr style=\"text-align: right;\">\n",
       "      <th></th>\n",
       "      <th>Date</th>\n",
       "      <th>Price</th>\n",
       "      <th>Open</th>\n",
       "      <th>High</th>\n",
       "      <th>Low</th>\n",
       "      <th>Vol.</th>\n",
       "      <th>Change %</th>\n",
       "      <th>Year</th>\n",
       "      <th>EPS</th>\n",
       "    </tr>\n",
       "  </thead>\n",
       "  <tbody>\n",
       "    <tr>\n",
       "      <th>0</th>\n",
       "      <td>2024-12-02</td>\n",
       "      <td>142.06</td>\n",
       "      <td>137.91</td>\n",
       "      <td>142.82</td>\n",
       "      <td>137.80</td>\n",
       "      <td>33.10M</td>\n",
       "      <td>3.56%</td>\n",
       "      <td>2024</td>\n",
       "      <td>0.7</td>\n",
       "    </tr>\n",
       "    <tr>\n",
       "      <th>1</th>\n",
       "      <td>2024-11-29</td>\n",
       "      <td>137.18</td>\n",
       "      <td>136.24</td>\n",
       "      <td>138.59</td>\n",
       "      <td>135.78</td>\n",
       "      <td>16.09M</td>\n",
       "      <td>0.69%</td>\n",
       "      <td>2024</td>\n",
       "      <td>0.7</td>\n",
       "    </tr>\n",
       "    <tr>\n",
       "      <th>2</th>\n",
       "      <td>2024-11-27</td>\n",
       "      <td>136.24</td>\n",
       "      <td>137.20</td>\n",
       "      <td>137.94</td>\n",
       "      <td>132.96</td>\n",
       "      <td>30.18M</td>\n",
       "      <td>-1.07%</td>\n",
       "      <td>2024</td>\n",
       "      <td>0.7</td>\n",
       "    </tr>\n",
       "    <tr>\n",
       "      <th>3</th>\n",
       "      <td>2024-11-26</td>\n",
       "      <td>137.72</td>\n",
       "      <td>142.55</td>\n",
       "      <td>142.80</td>\n",
       "      <td>136.62</td>\n",
       "      <td>32.09M</td>\n",
       "      <td>-2.42%</td>\n",
       "      <td>2024</td>\n",
       "      <td>0.7</td>\n",
       "    </tr>\n",
       "    <tr>\n",
       "      <th>4</th>\n",
       "      <td>2024-11-25</td>\n",
       "      <td>141.13</td>\n",
       "      <td>140.49</td>\n",
       "      <td>142.35</td>\n",
       "      <td>139.05</td>\n",
       "      <td>30.92M</td>\n",
       "      <td>2.01%</td>\n",
       "      <td>2024</td>\n",
       "      <td>0.7</td>\n",
       "    </tr>\n",
       "  </tbody>\n",
       "</table>\n",
       "</div>"
      ],
      "text/plain": [
       "        Date   Price    Open    High     Low    Vol. Change %  Year  EPS\n",
       "0 2024-12-02  142.06  137.91  142.82  137.80  33.10M    3.56%  2024  0.7\n",
       "1 2024-11-29  137.18  136.24  138.59  135.78  16.09M    0.69%  2024  0.7\n",
       "2 2024-11-27  136.24  137.20  137.94  132.96  30.18M   -1.07%  2024  0.7\n",
       "3 2024-11-26  137.72  142.55  142.80  136.62  32.09M   -2.42%  2024  0.7\n",
       "4 2024-11-25  141.13  140.49  142.35  139.05  30.92M    2.01%  2024  0.7"
      ]
     },
     "execution_count": 10,
     "metadata": {},
     "output_type": "execute_result"
    }
   ],
   "source": [
    "amd_df.head(5)"
   ]
  },
  {
   "cell_type": "code",
   "execution_count": 11,
   "metadata": {},
   "outputs": [],
   "source": [
    "def convert_vol(vol):\n",
    "    if isinstance(vol, str):  # Check if the value is a string\n",
    "        vol = vol.strip()\n",
    "        if 'M' in vol:\n",
    "            return float(vol.replace('M', '')) * 1_000_000\n",
    "        elif 'K' in vol:\n",
    "            return float(vol.replace('K', '')) * 1_000\n",
    "        elif 'B' in vol:\n",
    "            return float(vol.replace('B', '')) * 1_000_000_000\n",
    "    return float(vol)  # Return the value as float if it's not a string with 'M', 'K', or 'B'\n",
    "\n",
    "# Apply the conversion to the 'Vol.' column\n",
    "amd_df['Vol.'] = amd_df['Vol.'].apply(convert_vol)\n",
    "tsla_df['Vol.'] = tsla_df['Vol.'].apply(convert_vol)\n",
    "snp_df['Vol.'] = snp_df['Vol.'].apply(convert_vol)\n",
    "boe_df['Vol.'] = boe_df['Vol.'].apply(convert_vol)"
   ]
  },
  {
   "cell_type": "code",
   "execution_count": 12,
   "metadata": {},
   "outputs": [],
   "source": [
    "amd_df['Change %'] = amd_df['Change %'].replace({'%': ''}, regex=True).astype(float) / 100\n",
    "tsla_df['Change %'] = tsla_df['Change %'].replace({'%': ''}, regex=True).astype(float) / 100\n",
    "snp_df['Change %'] = snp_df['Change %'].replace({'%': ''}, regex=True).astype(float) / 100\n",
    "boe_df['Change %'] = boe_df['Change %'].replace({'%': ''}, regex=True).astype(float) / 100"
   ]
  },
  {
   "cell_type": "code",
   "execution_count": 13,
   "metadata": {},
   "outputs": [],
   "source": [
    "amd_df['Ticker'] = 'AMD'\n",
    "tsla_df['Ticker'] = 'TSLA'\n",
    "snp_df['Ticker'] = 'GSPC'\n",
    "boe_df['Ticker'] = 'BOE'"
   ]
  },
  {
   "cell_type": "markdown",
   "metadata": {},
   "source": [
    "### Feature Engineering for Stocks\n",
    "\n",
    "    - Price Returns\n",
    "    - Log Returns\n",
    "    - Volatility\n",
    "    - Moving Average\n",
    "    - Relative Strength Index (RSI)\n",
    "    - Moving Average Convergence Divergence\n",
    "    - Beta\n",
    "    - Sharpe Ratio\n",
    "    - Maximum Drawdown\n",
    "    - Price-to-Earnings ratio\n",
    "    - Dividend Yield\n",
    "    - Volume Moving Average (VMA)\n",
    "    - Exponential Moving Average\n"
   ]
  },
  {
   "cell_type": "code",
   "execution_count": 15,
   "metadata": {},
   "outputs": [],
   "source": [
    "def generateFeatures(combined_df):\n",
    "    combined_df['Price_Return'] = calc_price_return(combined_df)\n",
    "    combined_df['Log_Return'] = calc_log_return(combined_df)\n",
    "    combined_df['Volatility'] = calc_volatility(combined_df)\n",
    "    combined_df['Moving_Average'] = calc_MA(combined_df)\n",
    "    combined_df['RSI'] = calc_rsi(combined_df)\n",
    "    combined_df['MACD'] = calc_macd(combined_df)\n",
    "    mkt_returns = combined_df[combined_df['Ticker'] == 'GSPC']['Price'].pct_change()\n",
    "    mkt_returns = np.tile(mkt_returns, 4)\n",
    "    # combined_df['Beta'] = calc_beta(combined_df, mkt_returns[1:]) # assume 2% lowest risk returns\n",
    "    combined_df['Sharpe_Ratio'] = calc_sharpe_ratio(combined_df)\n",
    "    combined_df['Max_Drawdown'] = calc_max_draw_down(combined_df)\n",
    "\n",
    "df_list = [amd_df, tsla_df, snp_df, boe_df]\n",
    "for df in df_list:\n",
    "    generateFeatures(df)"
   ]
  },
  {
   "cell_type": "code",
   "execution_count": 18,
   "metadata": {},
   "outputs": [],
   "source": [
    "for df in df_list:\n",
    "    df.dropna(inplace=True)"
   ]
  },
  {
   "cell_type": "code",
   "execution_count": 19,
   "metadata": {},
   "outputs": [
    {
     "data": {
      "text/plain": [
       "Date              0\n",
       "Price             0\n",
       "Open              0\n",
       "High              0\n",
       "Low               0\n",
       "Vol.              0\n",
       "Change %          0\n",
       "Year              0\n",
       "EPS               0\n",
       "Ticker            0\n",
       "Price_Return      0\n",
       "Log_Return        0\n",
       "Volatility        0\n",
       "Moving_Average    0\n",
       "RSI               0\n",
       "MACD              0\n",
       "Sharpe_Ratio      0\n",
       "Max_Drawdown      0\n",
       "dtype: int64"
      ]
     },
     "execution_count": 19,
     "metadata": {},
     "output_type": "execute_result"
    }
   ],
   "source": [
    "amd_df.isna().sum()"
   ]
  },
  {
   "cell_type": "code",
   "execution_count": 20,
   "metadata": {},
   "outputs": [
    {
     "data": {
      "text/plain": [
       "(1218, 18)"
      ]
     },
     "execution_count": 20,
     "metadata": {},
     "output_type": "execute_result"
    }
   ],
   "source": [
    "amd_df.shape"
   ]
  },
  {
   "cell_type": "code",
   "execution_count": 21,
   "metadata": {},
   "outputs": [],
   "source": [
    "combined_df = pd.concat(df_list, ignore_index=True)\n"
   ]
  },
  {
   "cell_type": "code",
   "execution_count": 22,
   "metadata": {},
   "outputs": [
    {
     "data": {
      "text/plain": [
       "(4872, 18)"
      ]
     },
     "execution_count": 22,
     "metadata": {},
     "output_type": "execute_result"
    }
   ],
   "source": [
    "combined_df.shape"
   ]
  },
  {
   "cell_type": "code",
   "execution_count": 23,
   "metadata": {},
   "outputs": [],
   "source": [
    "combined_df.to_csv(\"../data/stocks-COMBINED-Jan2020-Dec2024.csv\")"
   ]
  },
  {
   "cell_type": "code",
   "execution_count": null,
   "metadata": {},
   "outputs": [],
   "source": []
  }
 ],
 "metadata": {
  "kernelspec": {
   "display_name": "base",
   "language": "python",
   "name": "python3"
  },
  "language_info": {
   "codemirror_mode": {
    "name": "ipython",
    "version": 3
   },
   "file_extension": ".py",
   "mimetype": "text/x-python",
   "name": "python",
   "nbconvert_exporter": "python",
   "pygments_lexer": "ipython3",
   "version": "3.12.7"
  }
 },
 "nbformat": 4,
 "nbformat_minor": 2
}
